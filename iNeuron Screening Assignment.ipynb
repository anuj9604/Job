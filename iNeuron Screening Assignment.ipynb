{
 "cells": [
  {
   "cell_type": "markdown",
   "metadata": {},
   "source": [
    "### Create a function in python to read the text file and replace specific content of the file.\n",
    "\n",
    "\n",
    "#### File name example.txt\n",
    "\n",
    "#### Origin file content This is a placement assignment\n",
    "\n",
    "#### Replace string Placement should be replaced by screening\n",
    "\n",
    "#### Replaced file content This is a screening assignment"
   ]
  },
  {
   "cell_type": "code",
   "execution_count": 31,
   "metadata": {},
   "outputs": [],
   "source": [
    "import os\n",
    "\n",
    "def read_file(src):\n",
    "    os.rename(src, 'example.txt')\n",
    "    f=open('example.txt','w+')\n",
    "    f.write(\"This is a placement assignment\")\n",
    "    f.close()\n",
    "    f=open('example.txt','r+')\n",
    "    stringy=f.read()\n",
    "    stringy=stringy.replace('placement', 'screening')\n",
    "    f.seek(0)\n",
    "    f.write(stringy)\n",
    "    f.close()\n",
    "    \n",
    "read_file('test.txt')"
   ]
  },
  {
   "cell_type": "markdown",
   "metadata": {},
   "source": [
    "## Demonstrate use of abstract class, multiple inheritance and decorator in python using examples."
   ]
  },
  {
   "cell_type": "markdown",
   "metadata": {},
   "source": [
    "#### Abstract Class\n",
    "\n",
    "These are classes where some methods are defined but not implemented. This means that these classes cannot be instantiated, but we can create subclasses that implement those methods and therefore behave like regular classes.\n",
    "\n",
    "##### Example:"
   ]
  },
  {
   "cell_type": "code",
   "execution_count": 33,
   "metadata": {},
   "outputs": [],
   "source": [
    "from abc import ABC, abstractmethod\n",
    "\n",
    "class House():\n",
    "    \n",
    "    @abstractmethod\n",
    "    def no_of_floors():\n",
    "        pass\n",
    "\n",
    "    \n",
    "    \n",
    "class Duplex(House):\n",
    "    \n",
    "    def no_of_floors():\n",
    "        print(\"2\")\n",
    "        \n",
    "        \n",
    "        \n",
    "class Flat(House):\n",
    "    \n",
    "    def no_of_floors():\n",
    "        print(\"1\")\n",
    "        \n",
    "        \n",
    "        \n",
    "class Building(House):\n",
    "    \n",
    "    def no_of_floors():\n",
    "        print(\"3 or more\")"
   ]
  },
  {
   "cell_type": "markdown",
   "metadata": {},
   "source": [
    "#### Multiple Inheritance"
   ]
  },
  {
   "cell_type": "markdown",
   "metadata": {},
   "source": [
    "Inheritance is, a class adapting features and methods of another class to be re-used. Multiple inheritance is, a class adapting features and methods from more than one class."
   ]
  },
  {
   "cell_type": "code",
   "execution_count": 34,
   "metadata": {},
   "outputs": [],
   "source": [
    "from abc import ABC, abstractmethod\n",
    "\n",
    "class Vehicle():\n",
    "    \n",
    "    @abstractmethod\n",
    "    def runs_on():\n",
    "        pass\n",
    "    \n",
    "    \n",
    "class Animal():\n",
    "    \n",
    "    @abstractmethod\n",
    "    def lives_on():\n",
    "        pass\n",
    "    \n",
    "class Horse(Vehicle, Animal):\n",
    "    \n",
    "    pass"
   ]
  },
  {
   "cell_type": "markdown",
   "metadata": {},
   "source": [
    "#### Decorator"
   ]
  },
  {
   "cell_type": "markdown",
   "metadata": {},
   "source": [
    "Decorators is a feature that allows to extend the functionality of a function without modifying from scratch."
   ]
  },
  {
   "cell_type": "code",
   "execution_count": 35,
   "metadata": {},
   "outputs": [],
   "source": [
    "def smart_divide(func):\n",
    "    def inner(a, b):\n",
    "        print(\"I am going to divide\", a, \"and\", b)\n",
    "        if b == 0:\n",
    "            print(\"Whoops! cannot divide\")\n",
    "            return\n",
    "\n",
    "        return func(a, b)\n",
    "    return inner\n",
    "\n",
    "\n",
    "@smart_divide\n",
    "def divide(a, b):\n",
    "    print(a/b)"
   ]
  }
 ],
 "metadata": {
  "kernelspec": {
   "display_name": "Python 3 (ipykernel)",
   "language": "python",
   "name": "python3"
  },
  "language_info": {
   "codemirror_mode": {
    "name": "ipython",
    "version": 3
   },
   "file_extension": ".py",
   "mimetype": "text/x-python",
   "name": "python",
   "nbconvert_exporter": "python",
   "pygments_lexer": "ipython3",
   "version": "3.9.7"
  }
 },
 "nbformat": 4,
 "nbformat_minor": 4
}
